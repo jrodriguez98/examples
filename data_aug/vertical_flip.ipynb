{
 "cells": [
  {
   "cell_type": "code",
   "execution_count": 3,
   "id": "sacred-crossing",
   "metadata": {},
   "outputs": [],
   "source": [
    "from sklearn.datasets import load_digits\n",
    "import matplotlib.pyplot as plt\n",
    "import cv2"
   ]
  },
  {
   "cell_type": "code",
   "execution_count": 4,
   "id": "cross-mozambique",
   "metadata": {},
   "outputs": [
    {
     "name": "stdout",
     "output_type": "stream",
     "text": [
      "(1797, 8, 8)\n",
      "(1797,)\n"
     ]
    }
   ],
   "source": [
    "digits = load_digits()\n",
    "print(digits.images.shape)\n",
    "print(digits.target.shape)"
   ]
  },
  {
   "cell_type": "code",
   "execution_count": 5,
   "id": "olympic-general",
   "metadata": {},
   "outputs": [
    {
     "name": "stdout",
     "output_type": "stream",
     "text": [
      "(180, 8, 8)\n",
      "(181, 8, 8)\n"
     ]
    }
   ],
   "source": [
    "# We take number 9 images\n",
    "nines_idx = [idx for idx, number in enumerate(digits.target) if number == 9]\n",
    "nines_images = digits.images[nines_idx]\n",
    "\n",
    "# And we take number 6 images\n",
    "six_idx = [idx for idx, number in enumerate(digits.target) if number == 6]\n",
    "six_images = digits.images[six_idx]\n",
    "\n",
    "\n",
    "print(nines_images.shape)\n",
    "print(six_images.shape)"
   ]
  },
  {
   "cell_type": "code",
   "execution_count": 6,
   "id": "deadly-margin",
   "metadata": {},
   "outputs": [
    {
     "data": {
      "text/plain": "<Figure size 432x288 with 2 Axes>",
      "image/png": "[encoded data removed]"
     },
     "metadata": {
      "needs_background": "light"
     },
     "output_type": "display_data"
    }
   ],
   "source": [
    "f, axarr = plt.subplots(1,2)\n",
    "axarr[0].imshow(nines_images[0])\n",
    "axarr[1].imshow(six_images[0])\n",
    "axarr[0].title.set_text(f'{nines_idx[0]}')\n",
    "axarr[1].title.set_text(f'{six_idx[0]}')"
   ]
  },
  {
   "cell_type": "code",
   "execution_count": 7,
   "id": "future-catch",
   "metadata": {},
   "outputs": [],
   "source": [
    "# Now... we verticaly and horizontally flip the first nine\n",
    "flipped_nine = cv2.flip(nines_images[0], 0)\n",
    "flipped_nine = cv2.flip(flipped_nine, 1)"
   ]
  },
  {
   "cell_type": "code",
   "execution_count": 8,
   "id": "framed-flood",
   "metadata": {},
   "outputs": [
    {
     "data": {
      "text/plain": "<Figure size 432x288 with 2 Axes>",
      "image/png": "[encoded data removed]"
     },
     "metadata": {
      "needs_background": "light"
     },
     "output_type": "display_data"
    }
   ],
   "source": [
    "f, axarr = plt.subplots(1,2)\n",
    "axarr[0].imshow(flipped_nine)\n",
    "axarr[1].imshow(six_images[0])\n",
    "axarr[0].title.set_text(f'Flipped {nines_idx[0]}')\n",
    "axarr[1].title.set_text(f'{six_idx[0]}')"
   ]
  },
  {
   "cell_type": "markdown",
   "id": "synthetic-congo",
   "metadata": {},
   "source": [
    "As you can see, if in the data augmentation techniques you are using to build a MNIST classifier you select the horizontal and vertical flip and both apply in a number 9 image, the resulting image is pretty similar to a 6.\n",
    "\n",
    "However, the label to that flipped 9 is still 9, so you are confusing the model by giving it an image that looks like a 6 but has the label 9"
   ]
  },
  {
   "cell_type": "code",
   "execution_count": null,
   "id": "continuing-society",
   "metadata": {},
   "outputs": [],
   "source": []
  }
 ],
 "metadata": {
  "kernelspec": {
   "display_name": "Python 3",
   "language": "python",
   "name": "python3"
  },
  "language_info": {
   "codemirror_mode": {
    "name": "ipython",
    "version": 3
   },
   "file_extension": ".py",
   "mimetype": "text/x-python",
   "name": "python",
   "nbconvert_exporter": "python",
   "pygments_lexer": "ipython3",
   "version": "3.7.9"
  }
 },
 "nbformat": 4,
 "nbformat_minor": 5
}